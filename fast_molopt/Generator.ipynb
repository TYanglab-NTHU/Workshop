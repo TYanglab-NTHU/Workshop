{
 "cells": [
  {
   "cell_type": "code",
   "execution_count": null,
   "metadata": {},
   "outputs": [],
   "source": [
    "import sys,os\n",
    "import torch\n",
    "sys.path.append('../')\n",
    "from rdkit import DataStructs, Chem\n",
    "from rdkit.Chem import MACCSkeys, Draw\n",
    "from fast_jtnn import *\n",
    "import pandas as pd"
   ]
  },
  {
   "cell_type": "markdown",
   "metadata": {},
   "source": [
    "Load Model"
   ]
  },
  {
   "cell_type": "code",
   "execution_count": null,
   "metadata": {},
   "outputs": [],
   "source": [
    "generator = LigandGenerator()"
   ]
  },
  {
   "cell_type": "markdown",
   "metadata": {},
   "source": [
    "Show LFS_metric"
   ]
  },
  {
   "cell_type": "code",
   "execution_count": null,
   "metadata": {},
   "outputs": [],
   "source": [
    "generator.LFS_metric()"
   ]
  },
  {
   "cell_type": "markdown",
   "metadata": {},
   "source": [
    "Show Density_plot"
   ]
  },
  {
   "cell_type": "code",
   "execution_count": null,
   "metadata": {},
   "outputs": [],
   "source": [
    "generator.density_plot()"
   ]
  },
  {
   "cell_type": "markdown",
   "metadata": {},
   "source": [
    "Show Density_plot with LFS_value"
   ]
  },
  {
   "cell_type": "code",
   "execution_count": null,
   "metadata": {},
   "outputs": [],
   "source": [
    "generator.LFS_densityplot()"
   ]
  },
  {
   "cell_type": "markdown",
   "metadata": {},
   "source": [
    "Random Sampling"
   ]
  },
  {
   "cell_type": "code",
   "execution_count": null,
   "metadata": {},
   "outputs": [],
   "source": [
    "'''Change the number of molecules to generate'''\n",
    "numsmiles = 5\n",
    "\n",
    "# Generate random molecules\n",
    "smiles = generator.randomgen(numsmiles)\n",
    "\n",
    "# Draw the generated molecules\n",
    "if numsmiles >= 5:\n",
    "    img = Draw.MolsToGridImage([Chem.MolFromSmiles(mol) for mol in smiles], molsPerRow=5, subImgSize=(500, 500), legends=smiles)\n",
    "else:\n",
    "    img = Draw.MolsToGridImage([Chem.MolFromSmiles(mol) for mol in smiles], molsPerRow=numsmiles, subImgSize=(500, 500), legends=smiles)\n",
    "\n",
    "# Display the image with the generated molecules\n",
    "img\n"
   ]
  },
  {
   "cell_type": "markdown",
   "metadata": {},
   "source": [
    "Sampling from Target (without LFS)"
   ]
  },
  {
   "cell_type": "code",
   "execution_count": null,
   "metadata": {},
   "outputs": [],
   "source": [
    "''' Define the target molecule seed '''\n",
    "target_smile = 'c1ccccc1'\n",
    "\n",
    "''' Specify the number of molecules to generate '''\n",
    "numsmiles = 3\n",
    "\n",
    "'''Set the bias or step size to create different molecules'''\n",
    "step_size = 0.01\n",
    "\n",
    "'''Generate molecules based on the target molecule'''\n",
    "smiles = generator.gen_from_target_withoutprop(target_smile, numsmiles)\n",
    "\n",
    "# Draw the generated molecules\n",
    "if numsmiles >= 5:\n",
    "    img = Draw.MolsToGridImage([Chem.MolFromSmiles(mol) for mol in smiles], molsPerRow=5, subImgSize=(500, 500), legends=smiles)\n",
    "else:\n",
    "    img = Draw.MolsToGridImage([Chem.MolFromSmiles(mol) for mol in smiles], molsPerRow=numsmiles, subImgSize=(500, 500), legends=smiles)\n",
    "\n",
    "# Display the image with the generated molecules\n",
    "img"
   ]
  },
  {
   "cell_type": "markdown",
   "metadata": {},
   "source": [
    "Optimization Target(with LFS)"
   ]
  },
  {
   "cell_type": "code",
   "execution_count": null,
   "metadata": {},
   "outputs": [],
   "source": [
    "''' Define the target molecule seed '''\n",
    "smile = 'CC#N'\n",
    "''' Define the target LFS values'''\n",
    "lfs_target = 0.5\n",
    "\n",
    "target_generator = generator.LFS_optimization(lfs_target,smile)\n",
    "for smi,z_values,lfs in target_generator:\n",
    "    generator.scatter_plot(z_values,smi,lfs)\n"
   ]
  }
 ],
 "metadata": {
  "kernelspec": {
   "display_name": "Python 3.7.13 ('chem': conda)",
   "language": "python",
   "name": "python3"
  },
  "language_info": {
   "codemirror_mode": {
    "name": "ipython",
    "version": 3
   },
   "file_extension": ".py",
   "mimetype": "text/x-python",
   "name": "python",
   "nbconvert_exporter": "python",
   "pygments_lexer": "ipython3",
   "version": "3.7.13"
  },
  "vscode": {
   "interpreter": {
    "hash": "e352abfa7858f70c3d8dbaefa0b222e2f1141758479838f509c851ab35fc26b9"
   }
  }
 },
 "nbformat": 4,
 "nbformat_minor": 4
}
